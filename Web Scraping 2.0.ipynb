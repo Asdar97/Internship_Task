{
 "cells": [
  {
   "cell_type": "code",
   "execution_count": 1,
   "metadata": {},
   "outputs": [],
   "source": [
    "import requests\n",
    "from bs4 import BeautifulSoup\n",
    "import pandas as pd\n",
    "import csv"
   ]
  },
  {
   "cell_type": "code",
   "execution_count": 2,
   "metadata": {},
   "outputs": [
    {
     "name": "stdout",
     "output_type": "stream",
     "text": [
      "Malaysia Online Frozen Meats, Beef, Lamb, Seafood, Fish and Vegetables\n",
      "– Sejadi.com\n"
     ]
    }
   ],
   "source": [
    "page = requests.get(\n",
    "    \"https://www.sejadi.com/collections/frozen\")\n",
    "soup = BeautifulSoup(page.content, 'html.parser')\n",
    "\n",
    "page_title = soup.title.text\n",
    "\n",
    "print(page_title)"
   ]
  },
  {
   "cell_type": "code",
   "execution_count": 4,
   "metadata": {},
   "outputs": [
    {
     "name": "stdout",
     "output_type": "stream",
     "text": [
      "['Australian Grass Fed Beef Rib Eye Steak (170g / 140g)\\n', 'Australian Grass Fed Beef Tenderloin Steak (130-150g per piece)\\n', 'Australian Frozen Lamb Rack (120-130g per piece)\\n', 'Beef Slice Brisket Navel End (500g) great for Beef Bacon\\n', 'READY COOKED SMOKED DUCK BREAST 230G (VACUUM PACK)\\n', 'Hashbrown Patty Rectangle Cut 10 pcs\\n', 'Australian Frozen Lamb Leg Chump off (180-190g per piece)\\n', 'Meltique Beef Striploin 200g Per Pieces\\n', 'Frozen Chicken Chop 8-10 pieces (2kg pkt)\\n']\n"
     ]
    }
   ],
   "source": [
    "Products = []\n",
    "\n",
    "for i in soup.find_all('a', {\"class\":'item__name pg__sync-url pg__name pg__name--grid'}):\n",
    "    Products.append(i.text)\n",
    "    \n",
    "print(Products)"
   ]
  },
  {
   "cell_type": "code",
   "execution_count": 13,
   "metadata": {},
   "outputs": [
    {
     "name": "stdout",
     "output_type": "stream",
     "text": [
      "['RM14.50 ', 'RM23.50 ', 'RM16.35 ', 'RM28.95 ', 'RM12.50 ', 'RM9.90 ', 'RM13.75 ', 'RM42.50 ', 'RM31.90 ']\n"
     ]
    }
   ],
   "source": [
    "Prices = []\n",
    "\n",
    "for i in soup.find_all(\"span\", {\"class\": \"product-price__price\"}):\n",
    "    Prices.append(i.text)\n",
    "    \n",
    "print(Prices)"
   ]
  },
  {
   "cell_type": "code",
   "execution_count": 40,
   "metadata": {},
   "outputs": [
    {
     "name": "stdout",
     "output_type": "stream",
     "text": [
      "[]\n"
     ]
    }
   ],
   "source": [
    "Sold = []\n",
    "\n",
    "for i in soup.find_all(\"span\", {\"class\": \"product-price__sold-out\"}):\n",
    "    Sold.append(i.text)\n",
    "    \n",
    "print(Sold)"
   ]
  },
  {
   "cell_type": "code",
   "execution_count": 15,
   "metadata": {},
   "outputs": [
    {
     "name": "stdout",
     "output_type": "stream",
     "text": [
      "                                            Products    Prices\n",
      "0  Australian Grass Fed Beef Rib Eye Steak (170g ...  RM14.50 \n",
      "1  Australian Grass Fed Beef Tenderloin Steak (13...  RM23.50 \n",
      "2  Australian Frozen Lamb Rack (120-130g per piec...  RM16.35 \n",
      "3  Beef Slice Brisket Navel End (500g) great for ...  RM28.95 \n",
      "4  READY COOKED SMOKED DUCK BREAST 230G (VACUUM P...  RM12.50 \n",
      "5             Hashbrown Patty Rectangle Cut 10 pcs\\n   RM9.90 \n",
      "6  Australian Frozen Lamb Leg Chump off (180-190g...  RM13.75 \n",
      "7          Meltique Beef Striploin 200g Per Pieces\\n  RM42.50 \n",
      "8        Frozen Chicken Chop 8-10 pieces (2kg pkt)\\n  RM31.90 \n"
     ]
    }
   ],
   "source": [
    "temp = { \"Products\": Products, \"Prices\":Prices}\n",
    "df = pd.DataFrame(temp)\n",
    "print(df)"
   ]
  },
  {
   "cell_type": "code",
   "execution_count": 28,
   "metadata": {},
   "outputs": [
    {
     "name": "stdout",
     "output_type": "stream",
     "text": [
      "                                Filter\n",
      "0                      Frozen Beef (4)\n",
      "1                     Frozen Lamb (10)\n",
      "2                     Frozen Duck (19)\n",
      "3                  Frozen Chicken (29)\n",
      "4                            Fish (36)\n",
      "5                 Squid & Scallop (17)\n",
      "6                           Prawn (19)\n",
      "7                      Vegetables (53)\n",
      "8                           Fruits (4)\n",
      "9               Ready To Eat/Cook (59)\n",
      "10                 Processed Food (44)\n",
      "11                  Dairy & Cheese (7)\n",
      "12                    Home Baking (19)\n",
      "13              Honey & Sweeteners (2)\n",
      "14              Nuts & Dry Fruits (10)\n",
      "15                Grains & Noodles (4)\n",
      "16      Herbs, Spices & Seasoning (38)\n",
      "17                             Oil (3)\n",
      "18                      Beverages (16)\n",
      "19                    Health Care (17)\n",
      "20                 Healthy Snacks (13)\n",
      "21  Baby Formula, Grains & Noodles (0)\n",
      "22                 Baby Toiletries (1)\n"
     ]
    }
   ],
   "source": [
    "Filter = []\n",
    "\n",
    "for i in soup.find_all(\"li\", {\"class\": \"link-list__item mobile-nav__item level0\"}):\n",
    "    Filter.append(i.text.strip())\n",
    "\n",
    "fil = { \"Filter\": Filter }\n",
    "df_fil = pd.DataFrame(fil)\n",
    "print(df_fil)"
   ]
  },
  {
   "cell_type": "code",
   "execution_count": 35,
   "metadata": {},
   "outputs": [
    {
     "name": "stdout",
     "output_type": "stream",
     "text": [
      "      Frozen Beef\n",
      "0   MELTIQUE BEEF\n",
      "1      ANGUS BEEF\n",
      "2  GRAIN-FED BEEF\n",
      "3  GRASS-FED BEEF\n"
     ]
    }
   ],
   "source": [
    "page = requests.get(\n",
    "    \"https://www.sejadi.com/collections/beef\")\n",
    "soup = BeautifulSoup(page.content, 'html.parser')\n",
    "\n",
    "Beef = []\n",
    "\n",
    "for i in soup.find_all('h3', {\"class\":'sc-oTLFK'}):\n",
    "    Beef.append(i.text)\n",
    "\n",
    "beef = { \"Frozen Beef\": Beef }\n",
    "df_beef = pd.DataFrame(beef)\n",
    "print(df_beef[0:4])"
   ]
  },
  {
   "cell_type": "code",
   "execution_count": 39,
   "metadata": {},
   "outputs": [
    {
     "name": "stdout",
     "output_type": "stream",
     "text": [
      "                                         Frozen Lamb\n",
      "0   Australian Frozen Lamb Rack (120-130g per piece)\n",
      "1  Great Southern Lamb Rack French Cut, 2 pieces ...\n",
      "2  (Family Pack) Australian Grass Fed Lamb Rack (...\n",
      "3  New Zealand Lamb Shoulder Bone-In Square Cut (...\n",
      "4  (Family Pack) Australian Frozen Lamb Shoulder ...\n",
      "5  New Zealand Lamb Shoulder Bone-In Square Cut (...\n",
      "6  Australian Frozen Lamb Leg Chump off (180-190g...\n",
      "7  Black Pepper Lamb Combo: NZ Lamb Shoulder (4) ...\n",
      "8  Australian Grass Fed Lamb Rack (2 pcs) 250g  +...\n",
      "9  Australian Grass Fed Lamb Rack (2 pcs) 280g  +...\n"
     ]
    }
   ],
   "source": [
    "page = requests.get(\n",
    "    \"https://www.sejadi.com/collections/lamb\")\n",
    "soup = BeautifulSoup(page.content, 'html.parser')\n",
    "\n",
    "Lamb = []\n",
    "\n",
    "for i in soup.find_all('h3', {\"data-product-type\":'title'}):\n",
    "    Lamb.append(i.text)\n",
    "\n",
    "lamb = { \"Frozen Lamb\": Lamb }\n",
    "df_lamb = pd.DataFrame(lamb)\n",
    "print(df_lamb[0:10])"
   ]
  },
  {
   "cell_type": "code",
   "execution_count": null,
   "metadata": {},
   "outputs": [],
   "source": []
  }
 ],
 "metadata": {
  "kernelspec": {
   "display_name": "Python 3",
   "language": "python",
   "name": "python3"
  },
  "language_info": {
   "codemirror_mode": {
    "name": "ipython",
    "version": 3
   },
   "file_extension": ".py",
   "mimetype": "text/x-python",
   "name": "python",
   "nbconvert_exporter": "python",
   "pygments_lexer": "ipython3",
   "version": "3.7.4"
  }
 },
 "nbformat": 4,
 "nbformat_minor": 4
}
